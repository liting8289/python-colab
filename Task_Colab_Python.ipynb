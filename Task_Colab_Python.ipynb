{
  "nbformat": 4,
  "nbformat_minor": 0,
  "metadata": {
    "colab": {
      "provenance": [],
      "authorship_tag": "ABX9TyNnkDXZUSmYixqwMJxdfpVR",
      "include_colab_link": true
    },
    "kernelspec": {
      "name": "python3",
      "display_name": "Python 3"
    },
    "language_info": {
      "name": "python"
    }
  },
  "cells": [
    {
      "cell_type": "markdown",
      "metadata": {
        "id": "view-in-github",
        "colab_type": "text"
      },
      "source": [
        "<a href=\"https://colab.research.google.com/github/liting8289/python-colab/blob/main/Task_Colab_Python.ipynb\" target=\"_parent\"><img src=\"https://colab.research.google.com/assets/colab-badge.svg\" alt=\"Open In Colab\"/></a>"
      ]
    },
    {
      "cell_type": "markdown",
      "source": [
        "Task01\n"
      ],
      "metadata": {
        "id": "m5r4MKDC_6kU"
      }
    },
    {
      "cell_type": "code",
      "source": [
        "print(\"hello world\")\n",
        "print('hello world')\n",
        "print(int(123))\n",
        "print(str(\"456\"))"
      ],
      "metadata": {
        "colab": {
          "base_uri": "https://localhost:8080/"
        },
        "id": "42AyjGo3_Eei",
        "outputId": "12ced290-1644-490c-c4bc-2db5fb7ec895"
      },
      "execution_count": 1,
      "outputs": [
        {
          "output_type": "stream",
          "name": "stdout",
          "text": [
            "hello world\n",
            "hello world\n",
            "123\n",
            "456\n"
          ]
        }
      ]
    },
    {
      "cell_type": "markdown",
      "source": [
        "Task 02"
      ],
      "metadata": {
        "id": "uTbILtSZ_9lE"
      }
    },
    {
      "cell_type": "code",
      "source": [
        "a=10\n",
        "b=3.5\n",
        "c=\"50\"\n",
        "print(a)\n",
        "print(b)\n",
        "print(c)\n",
        "print(a+b)\n",
        "print(a+int(c))"
      ],
      "metadata": {
        "colab": {
          "base_uri": "https://localhost:8080/"
        },
        "id": "t4D1IquT__hT",
        "outputId": "8940c3d7-37c3-45cb-c973-bd00055a2c56"
      },
      "execution_count": null,
      "outputs": [
        {
          "output_type": "stream",
          "name": "stdout",
          "text": [
            "10\n",
            "3.5\n",
            "50\n",
            "13.5\n",
            "60\n"
          ]
        }
      ]
    },
    {
      "cell_type": "markdown",
      "source": [
        "Task 03"
      ],
      "metadata": {
        "id": "-4jrZxf1CzE6"
      }
    },
    {
      "cell_type": "code",
      "source": [
        "print(\"*       *\")\n",
        "print(\"**     **\")\n",
        "print(\"* *   * *\")\n",
        "print(\"*   *   *\")\n",
        "print(\"*       *\")"
      ],
      "metadata": {
        "colab": {
          "base_uri": "https://localhost:8080/"
        },
        "id": "WZo6hrxDC2YD",
        "outputId": "f7ef71bb-0127-4de0-c024-d831494e9057"
      },
      "execution_count": null,
      "outputs": [
        {
          "output_type": "stream",
          "name": "stdout",
          "text": [
            "*       *\n",
            "**     **\n",
            "* *   * *\n",
            "*   *   *\n",
            "*       *\n"
          ]
        }
      ]
    },
    {
      "cell_type": "code",
      "source": [
        "print(\"*       *\\n**     **\\n* *   * *\\n*   *   *\\n*       *\")"
      ],
      "metadata": {
        "colab": {
          "base_uri": "https://localhost:8080/"
        },
        "id": "Mzw0l8x6DPMT",
        "outputId": "91dc4f54-c8e3-4eb3-c6b8-1001741bb05c"
      },
      "execution_count": null,
      "outputs": [
        {
          "output_type": "stream",
          "name": "stdout",
          "text": [
            "*       *\n",
            "**     **\n",
            "* *   * *\n",
            "*   *   *\n",
            "*       *\n"
          ]
        }
      ]
    },
    {
      "cell_type": "markdown",
      "source": [
        "Task 04"
      ],
      "metadata": {
        "id": "hdMossg6pMEg"
      }
    },
    {
      "cell_type": "code",
      "source": [
        "nums = [0, 1, 2, 3, 4]\n",
        "for i in nums:\n",
        "  print (nums[i])"
      ],
      "metadata": {
        "colab": {
          "base_uri": "https://localhost:8080/"
        },
        "id": "X4UBtR1ipRPW",
        "outputId": "02c45ca7-e1a2-47cd-86a0-5957acee450a"
      },
      "execution_count": 4,
      "outputs": [
        {
          "output_type": "stream",
          "name": "stdout",
          "text": [
            "0\n",
            "1\n",
            "2\n",
            "3\n",
            "4\n"
          ]
        }
      ]
    },
    {
      "cell_type": "markdown",
      "source": [
        "Task 05"
      ],
      "metadata": {
        "id": "5j1tyCBOstaC"
      }
    },
    {
      "cell_type": "code",
      "source": [
        "scores = {'A': 90, 'B': 80, 'C': 70}\n",
        "for i, j in scores.items():\n",
        "  print('{} : {} '.format(i, j))\n",
        "print(scores)"
      ],
      "metadata": {
        "colab": {
          "base_uri": "https://localhost:8080/"
        },
        "id": "qacDR4ilpzHa",
        "outputId": "2b62842b-d67f-44b0-ad2e-259955a52a9a"
      },
      "execution_count": 11,
      "outputs": [
        {
          "output_type": "stream",
          "name": "stdout",
          "text": [
            "A : 90 \n",
            "B : 80 \n",
            "C : 70 \n",
            "{'A': 90, 'B': 80, 'C': 70}\n"
          ]
        }
      ]
    },
    {
      "cell_type": "markdown",
      "source": [
        "Project"
      ],
      "metadata": {
        "id": "iXQyZbY--Qq6"
      }
    },
    {
      "cell_type": "code",
      "source": [
        "print(\"您的身高是:(cm)\")\n",
        "hight=int(input())\n",
        "num=(hight/100)**2\n",
        "\n",
        "print(\"您的體重是:(kg)\")\n",
        "weight=float(input())\n",
        "\n",
        "print(\"您的BMI是:\"+str(weight/num))\n",
        "\n"
      ],
      "metadata": {
        "colab": {
          "base_uri": "https://localhost:8080/"
        },
        "id": "WnvTaLiz4Mg3",
        "outputId": "3600d428-3cde-40d1-f7a9-7056efcd9273"
      },
      "execution_count": 32,
      "outputs": [
        {
          "output_type": "stream",
          "name": "stdout",
          "text": [
            "您的身高是:(cm)\n",
            "158\n",
            "您的體重是:(kg)\n",
            "40\n",
            "您的BMI是:16.023073225444637\n"
          ]
        }
      ]
    }
  ]
}