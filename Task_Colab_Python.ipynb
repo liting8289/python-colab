{
  "nbformat": 4,
  "nbformat_minor": 0,
  "metadata": {
    "colab": {
      "provenance": [],
      "authorship_tag": "ABX9TyOIDElXpKRyCymeEO3/cp2t",
      "include_colab_link": true
    },
    "kernelspec": {
      "name": "python3",
      "display_name": "Python 3"
    },
    "language_info": {
      "name": "python"
    }
  },
  "cells": [
    {
      "cell_type": "markdown",
      "metadata": {
        "id": "view-in-github",
        "colab_type": "text"
      },
      "source": [
        "<a href=\"https://colab.research.google.com/github/liting8289/python-colab/blob/main/Task_Colab_Python.ipynb\" target=\"_parent\"><img src=\"https://colab.research.google.com/assets/colab-badge.svg\" alt=\"Open In Colab\"/></a>"
      ]
    },
    {
      "cell_type": "markdown",
      "source": [
        "Task01\n"
      ],
      "metadata": {
        "id": "m5r4MKDC_6kU"
      }
    },
    {
      "cell_type": "code",
      "source": [
        "print(\"hello world\")\n",
        "print('hello world')\n",
        "print(int(123))\n",
        "print(str(\"456\"))"
      ],
      "metadata": {
        "colab": {
          "base_uri": "https://localhost:8080/"
        },
        "id": "42AyjGo3_Eei",
        "outputId": "3b67cbd1-533a-421c-9d0d-04663ef472c6"
      },
      "execution_count": null,
      "outputs": [
        {
          "output_type": "stream",
          "name": "stdout",
          "text": [
            "hello world\n",
            "hello world\n",
            "123\n",
            "456\n"
          ]
        }
      ]
    },
    {
      "cell_type": "markdown",
      "source": [
        "Task 02"
      ],
      "metadata": {
        "id": "uTbILtSZ_9lE"
      }
    },
    {
      "cell_type": "code",
      "source": [
        "a=10\n",
        "b=3.5\n",
        "c=\"50\"\n",
        "print(a)\n",
        "print(b)\n",
        "print(c)\n",
        "print(a+b)\n",
        "print(a+int(c))"
      ],
      "metadata": {
        "colab": {
          "base_uri": "https://localhost:8080/"
        },
        "id": "t4D1IquT__hT",
        "outputId": "8940c3d7-37c3-45cb-c973-bd00055a2c56"
      },
      "execution_count": null,
      "outputs": [
        {
          "output_type": "stream",
          "name": "stdout",
          "text": [
            "10\n",
            "3.5\n",
            "50\n",
            "13.5\n",
            "60\n"
          ]
        }
      ]
    },
    {
      "cell_type": "markdown",
      "source": [
        "Task 03"
      ],
      "metadata": {
        "id": "-4jrZxf1CzE6"
      }
    },
    {
      "cell_type": "code",
      "source": [
        "print(\"*       *\")\n",
        "print(\"**     **\")\n",
        "print(\"* *   * *\")\n",
        "print(\"*   *   *\")\n",
        "print(\"*       *\")"
      ],
      "metadata": {
        "colab": {
          "base_uri": "https://localhost:8080/"
        },
        "id": "WZo6hrxDC2YD",
        "outputId": "f7ef71bb-0127-4de0-c024-d831494e9057"
      },
      "execution_count": null,
      "outputs": [
        {
          "output_type": "stream",
          "name": "stdout",
          "text": [
            "*       *\n",
            "**     **\n",
            "* *   * *\n",
            "*   *   *\n",
            "*       *\n"
          ]
        }
      ]
    },
    {
      "cell_type": "code",
      "source": [
        "print(\"*       *\\n**     **\\n* *   * *\\n*   *   *\\n*       *\")"
      ],
      "metadata": {
        "colab": {
          "base_uri": "https://localhost:8080/"
        },
        "id": "Mzw0l8x6DPMT",
        "outputId": "91dc4f54-c8e3-4eb3-c6b8-1001741bb05c"
      },
      "execution_count": null,
      "outputs": [
        {
          "output_type": "stream",
          "name": "stdout",
          "text": [
            "*       *\n",
            "**     **\n",
            "* *   * *\n",
            "*   *   *\n",
            "*       *\n"
          ]
        }
      ]
    }
  ]
}